{
 "cells": [
  {
   "cell_type": "markdown",
   "metadata": {},
   "source": [
    "## Record and Save as Json"
   ]
  },
  {
   "cell_type": "code",
   "execution_count": 1,
   "metadata": {},
   "outputs": [],
   "source": [
    "import pandas as pd\n",
    "from pose import img_keypoints_json\n",
    "from pose import video_keypoints_json\n",
    "from pose import img_keypoints_csv\n",
    "from pose import video_keypoints_csv\n",
    "from pose import play_csv\n",
    "from pose import play_json\n",
    "from pose import display_images\n",
    "from pose import display_keypoints_imgs\n",
    "from pose import cam2csv\n",
    "from pose import cam2json"
   ]
  },
  {
   "cell_type": "code",
   "execution_count": null,
   "metadata": {},
   "outputs": [],
   "source": [
    "cam2csv('you', 'you.csv')"
   ]
  },
  {
   "cell_type": "code",
   "execution_count": null,
   "metadata": {},
   "outputs": [],
   "source": [
    "cam2json('you', 'you.json')"
   ]
  },
  {
   "cell_type": "markdown",
   "metadata": {},
   "source": [
    "## Display Images"
   ]
  },
  {
   "cell_type": "markdown",
   "metadata": {},
   "source": [
    "Accepts a list of image paths as the only argument, if you wanna check out a single picture than make a list with a single element which is that picture. \n",
    "\n",
    "example\n",
    "\n",
    "img = ['img.jpg']"
   ]
  },
  {
   "cell_type": "code",
   "execution_count": null,
   "metadata": {},
   "outputs": [],
   "source": [
    "import os\n",
    "import glob\n",
    "\n",
    "# Path to the 'pushups' folder\n",
    "pushups_folder = 'data/pushups/images'\n",
    "\n",
    "# Get all image paths (matching jpg, jpeg, png)\n",
    "image_paths = glob.glob(os.path.join(pushups_folder, '*.[jJpP][pPnN][gG]')) + \\\n",
    "              glob.glob(os.path.join(pushups_folder, '*.jpeg'))\n",
    "\n",
    "# Print or use the image paths\n",
    "print(image_paths)"
   ]
  },
  {
   "cell_type": "code",
   "execution_count": 2,
   "metadata": {},
   "outputs": [],
   "source": [
    "img = ['doug.jpg']"
   ]
  },
  {
   "cell_type": "code",
   "execution_count": 3,
   "metadata": {},
   "outputs": [],
   "source": [
    "#press any key to continue\n",
    "display_images(img)"
   ]
  },
  {
   "cell_type": "markdown",
   "metadata": {},
   "source": [
    "## Convert Pictures to CSV and JSON"
   ]
  },
  {
   "cell_type": "code",
   "execution_count": null,
   "metadata": {},
   "outputs": [],
   "source": [
    "\"\"\"\n",
    "takes a list of pictures, a label, and a filename for the output CSV file as input\n",
    "\"\"\"\n",
    "img_keypoints_csv(img, 'doug', 'doug.csv')\n",
    "img_keypoints_json(img, 'pushups', 'doug.json')"
   ]
  },
  {
   "cell_type": "code",
   "execution_count": 3,
   "metadata": {},
   "outputs": [
    {
     "data": {
      "text/html": [
       "<div>\n",
       "<style scoped>\n",
       "    .dataframe tbody tr th:only-of-type {\n",
       "        vertical-align: middle;\n",
       "    }\n",
       "\n",
       "    .dataframe tbody tr th {\n",
       "        vertical-align: top;\n",
       "    }\n",
       "\n",
       "    .dataframe thead th {\n",
       "        text-align: right;\n",
       "    }\n",
       "</style>\n",
       "<table border=\"1\" class=\"dataframe\">\n",
       "  <thead>\n",
       "    <tr style=\"text-align: right;\">\n",
       "      <th></th>\n",
       "      <th>label</th>\n",
       "      <th>x_0</th>\n",
       "      <th>y_0</th>\n",
       "      <th>z_0</th>\n",
       "      <th>visibility_0</th>\n",
       "      <th>x_1</th>\n",
       "      <th>y_1</th>\n",
       "      <th>z_1</th>\n",
       "      <th>visibility_1</th>\n",
       "      <th>x_2</th>\n",
       "      <th>...</th>\n",
       "      <th>z_30</th>\n",
       "      <th>visibility_30</th>\n",
       "      <th>x_31</th>\n",
       "      <th>y_31</th>\n",
       "      <th>z_31</th>\n",
       "      <th>visibility_31</th>\n",
       "      <th>x_32</th>\n",
       "      <th>y_32</th>\n",
       "      <th>z_32</th>\n",
       "      <th>visibility_32</th>\n",
       "    </tr>\n",
       "  </thead>\n",
       "  <tbody>\n",
       "    <tr>\n",
       "      <th>0</th>\n",
       "      <td>doug</td>\n",
       "      <td>0.516238</td>\n",
       "      <td>0.289408</td>\n",
       "      <td>-0.311132</td>\n",
       "      <td>0.999975</td>\n",
       "      <td>0.523862</td>\n",
       "      <td>0.278599</td>\n",
       "      <td>-0.283088</td>\n",
       "      <td>0.999908</td>\n",
       "      <td>0.529568</td>\n",
       "      <td>...</td>\n",
       "      <td>0.43088</td>\n",
       "      <td>0.884</td>\n",
       "      <td>0.542015</td>\n",
       "      <td>0.789269</td>\n",
       "      <td>-0.014898</td>\n",
       "      <td>0.982699</td>\n",
       "      <td>0.456543</td>\n",
       "      <td>0.765679</td>\n",
       "      <td>0.269362</td>\n",
       "      <td>0.975242</td>\n",
       "    </tr>\n",
       "  </tbody>\n",
       "</table>\n",
       "<p>1 rows × 133 columns</p>\n",
       "</div>"
      ],
      "text/plain": [
       "  label       x_0       y_0       z_0  visibility_0       x_1       y_1  \\\n",
       "0  doug  0.516238  0.289408 -0.311132      0.999975  0.523862  0.278599   \n",
       "\n",
       "        z_1  visibility_1       x_2  ...     z_30  visibility_30      x_31  \\\n",
       "0 -0.283088      0.999908  0.529568  ...  0.43088          0.884  0.542015   \n",
       "\n",
       "       y_31      z_31  visibility_31      x_32      y_32      z_32  \\\n",
       "0  0.789269 -0.014898       0.982699  0.456543  0.765679  0.269362   \n",
       "\n",
       "   visibility_32  \n",
       "0       0.975242  \n",
       "\n",
       "[1 rows x 133 columns]"
      ]
     },
     "execution_count": 3,
     "metadata": {},
     "output_type": "execute_result"
    }
   ],
   "source": [
    "df = pd.read_csv('doug.csv')\n",
    "df"
   ]
  },
  {
   "cell_type": "markdown",
   "metadata": {},
   "source": [
    "### Visualize Keypoints in the data frame"
   ]
  },
  {
   "cell_type": "code",
   "execution_count": 4,
   "metadata": {},
   "outputs": [],
   "source": [
    "#press any key to scroll through pictures\n",
    "display_keypoints_imgs(df)"
   ]
  },
  {
   "cell_type": "markdown",
   "metadata": {},
   "source": [
    "## Convert Key Points in Video To CSV"
   ]
  },
  {
   "cell_type": "markdown",
   "metadata": {},
   "source": [
    "takes three arguments\n",
    "1. a list of videos\n",
    "2. a label for the video, which will be added as a column in the csv\n",
    "3. a name for it to be saved as\n",
    "\n",
    "the below example takes a video i found on youtube and converts it to a csv"
   ]
  },
  {
   "cell_type": "code",
   "execution_count": 7,
   "metadata": {},
   "outputs": [
    {
     "name": "stdout",
     "output_type": "stream",
     "text": [
      "Processing video: data/vids/s03/60457274/standing_ab_twists.mp4\n",
      "Keypoints from 1 videos labeled with 's03_standing_ab_twists' saved to s03_standing_ab_twists_fl.csv.\n"
     ]
    }
   ],
   "source": [
    "vid = ['data/vids/s03/58860488/standing_ab_twists.mp4']\n",
    "video_keypoints_csv(vid, 's03_standing_ab_twists', 's03_standing_ab_twists_br.csv')\n"
   ]
  },
  {
   "cell_type": "code",
   "execution_count": null,
   "metadata": {},
   "outputs": [],
   "source": [
    "df = pd.read_csv('skating.csv')\n",
    "df"
   ]
  },
  {
   "cell_type": "markdown",
   "metadata": {},
   "source": [
    "## replay "
   ]
  },
  {
   "cell_type": "markdown",
   "metadata": {},
   "source": [
    "play_csv takes the csv file produced from video_keypoints_csv() and replays the video of just the skeleton and keypoints against a black frame "
   ]
  },
  {
   "cell_type": "code",
   "execution_count": 6,
   "metadata": {},
   "outputs": [],
   "source": [
    "play_csv('skating.csv')"
   ]
  },
  {
   "cell_type": "markdown",
   "metadata": {},
   "source": [
    "## Convert Key Points in Video To JSON"
   ]
  },
  {
   "cell_type": "markdown",
   "metadata": {},
   "source": [
    "we can basically do the same thing with json files"
   ]
  },
  {
   "cell_type": "code",
   "execution_count": null,
   "metadata": {},
   "outputs": [],
   "source": [
    "vid = ['data/dance/video/dance.mp4']\n",
    "video_keypoints_json(vid, 'dance', 'dance.json')"
   ]
  },
  {
   "cell_type": "markdown",
   "metadata": {},
   "source": [
    "### Replay Json"
   ]
  },
  {
   "cell_type": "code",
   "execution_count": 8,
   "metadata": {},
   "outputs": [],
   "source": [
    "play_json('dance.json')"
   ]
  }
 ],
 "metadata": {
  "kernelspec": {
   "display_name": "Python 3",
   "language": "python",
   "name": "python3"
  },
  "language_info": {
   "codemirror_mode": {
    "name": "ipython",
    "version": 3
   },
   "file_extension": ".py",
   "mimetype": "text/x-python",
   "name": "python",
   "nbconvert_exporter": "python",
   "pygments_lexer": "ipython3",
   "version": "3.9.13"
  }
 },
 "nbformat": 4,
 "nbformat_minor": 2
}
