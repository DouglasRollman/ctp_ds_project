{
 "cells": [
  {
   "cell_type": "markdown",
   "metadata": {},
   "source": [
    "## Record and Save as Json"
   ]
  },
  {
   "cell_type": "code",
   "execution_count": null,
   "metadata": {},
   "outputs": [],
   "source": [
    "import cv2\n",
    "import mediapipe as mp\n",
    "import numpy as np\n",
    "import json\n",
    "\n",
    "# Initialize MediaPipe BlazePose\n",
    "mp_pose = mp.solutions.pose\n",
    "pose = mp_pose.Pose(min_detection_confidence=0.5, min_tracking_confidence=0.5)\n",
    "\n",
    "# Capture video from webcam\n",
    "cap = cv2.VideoCapture(0)\n",
    "\n",
    "# Store keypoints over time\n",
    "keypoints_list = []\n",
    "\n",
    "while cap.isOpened():\n",
    "    ret, frame = cap.read()\n",
    "    if not ret:\n",
    "        print(\"Failed to grab frame\")\n",
    "        break\n",
    "\n",
    "    # Convert frame to RGB for MediaPipe\n",
    "    image_rgb = cv2.cvtColor(frame, cv2.COLOR_BGR2RGB)\n",
    "    image_rgb.flags.writeable = False\n",
    "\n",
    "    # Run BlazePose\n",
    "    results = pose.process(image_rgb)\n",
    "\n",
    "    # Convert back to BGR for OpenCV\n",
    "    image_rgb.flags.writeable = True\n",
    "    image_bgr = cv2.cvtColor(image_rgb, cv2.COLOR_RGB2BGR)\n",
    "\n",
    "    # If landmarks are detected\n",
    "    if results.pose_landmarks:\n",
    "        landmarks = results.pose_landmarks.landmark\n",
    "        \n",
    "        # Extract and store the keypoints (x, y, z) and visibility for each joint\n",
    "        keypoints = []\n",
    "        for landmark in landmarks:\n",
    "            keypoints.append((landmark.x, landmark.y, landmark.z, landmark.visibility))\n",
    "        \n",
    "        keypoints_list.append(keypoints)\n",
    "\n",
    "        # Draw the pose landmarks on the frame (for visualization)\n",
    "        mp.solutions.drawing_utils.draw_landmarks(\n",
    "            image_bgr, \n",
    "            results.pose_landmarks, \n",
    "            mp_pose.POSE_CONNECTIONS\n",
    "        )\n",
    "\n",
    "    # Show the frame\n",
    "    cv2.imshow('Skeleton Capture', image_bgr)\n",
    "\n",
    "    # Press q to exit\n",
    "    if cv2.waitKey(1) & 0xFF == ord('q'):\n",
    "        break\n",
    "    \n",
    "# Save keypoints_list to a JSON file\n",
    "with open('skeleton_data.json', 'w') as f:\n",
    "    json.dump(keypoints_list, f)\n",
    "\n",
    "cap.release()\n",
    "cv2.destroyAllWindows()"
   ]
  },
  {
   "cell_type": "code",
   "execution_count": 1,
   "metadata": {},
   "outputs": [],
   "source": [
    "import pandas as pd\n",
    "\n",
    "from pose import img_keypoints_json\n",
    "from pose import video_keypoints_json\n",
    "from pose import img_keypoints_csv\n",
    "from pose import video_keypoints_csv\n",
    "from pose import play_csv\n",
    "from pose import play_json\n",
    "from pose import display_images\n",
    "from pose import display_keypoints_imgs\n",
    "from pose import cam2csv\n"
   ]
  },
  {
   "cell_type": "code",
   "execution_count": 3,
   "metadata": {},
   "outputs": [
    {
     "name": "stderr",
     "output_type": "stream",
     "text": [
      "C:\\Users\\dougl\\AppData\\Local\\Packages\\PythonSoftwareFoundation.Python.3.9_qbz5n2kfra8p0\\LocalCache\\local-packages\\Python39\\site-packages\\google\\protobuf\\symbol_database.py:55: UserWarning: SymbolDatabase.GetPrototype() is deprecated. Please use message_factory.GetMessageClass() instead. SymbolDatabase.GetPrototype() will be removed soon.\n",
      "  warnings.warn('SymbolDatabase.GetPrototype() is deprecated. Please '\n"
     ]
    }
   ],
   "source": [
    "cam2csv('you', 'you.csv')"
   ]
  },
  {
   "cell_type": "code",
   "execution_count": null,
   "metadata": {},
   "outputs": [],
   "source": [
    "cam2json('you', 'you.json')"
   ]
  },
  {
   "cell_type": "markdown",
   "metadata": {},
   "source": [
    "## Display Images"
   ]
  },
  {
   "cell_type": "markdown",
   "metadata": {},
   "source": [
    "Accepts a list of image paths as the only argument, if you wanna check out a single picture than make a list with a single element which is that picture. \n",
    "\n",
    "example\n",
    "\n",
    "img = ['img.jpg']"
   ]
  },
  {
   "cell_type": "code",
   "execution_count": null,
   "metadata": {},
   "outputs": [],
   "source": [
    "import os\n",
    "import glob\n",
    "\n",
    "# Path to the 'pushups' folder\n",
    "pushups_folder = 'data/pushups/images'\n",
    "\n",
    "# Get all image paths (matching jpg, jpeg, png)\n",
    "image_paths = glob.glob(os.path.join(pushups_folder, '*.[jJpP][pPnN][gG]')) + \\\n",
    "              glob.glob(os.path.join(pushups_folder, '*.jpeg'))\n",
    "\n",
    "# Print or use the image paths\n",
    "print(image_paths)"
   ]
  },
  {
   "cell_type": "code",
   "execution_count": 3,
   "metadata": {},
   "outputs": [],
   "source": [
    "#press any key to continue\n",
    "display_images(image_paths)"
   ]
  },
  {
   "cell_type": "markdown",
   "metadata": {},
   "source": [
    "## Convert Pictures to CSV and JSON"
   ]
  },
  {
   "cell_type": "code",
   "execution_count": null,
   "metadata": {},
   "outputs": [],
   "source": [
    "\"\"\"\n",
    "takes a list of pictures, a label, and a filename for the output CSV file as input\n",
    "\"\"\"\n",
    "img_keypoints_csv(image_paths, 'pushups', 'pushups.csv')\n",
    "img_keypoints_json(image_paths, 'pushups', 'pushups.json')"
   ]
  },
  {
   "cell_type": "code",
   "execution_count": null,
   "metadata": {},
   "outputs": [],
   "source": [
    "df = pd.read_csv('pushups.csv')\n",
    "df"
   ]
  },
  {
   "cell_type": "markdown",
   "metadata": {},
   "source": [
    "### Visualize Keypoints in the data frame"
   ]
  },
  {
   "cell_type": "code",
   "execution_count": 6,
   "metadata": {},
   "outputs": [],
   "source": [
    "#press any key to scroll through pictures\n",
    "display_keypoints_imgs(df)"
   ]
  },
  {
   "cell_type": "markdown",
   "metadata": {},
   "source": [
    "## Convert Key Points in Video To CSV"
   ]
  },
  {
   "cell_type": "markdown",
   "metadata": {},
   "source": [
    "takes three arguments\n",
    "1. a list of videos\n",
    "2. a label for the video, which will be added as a column in the csv\n",
    "3. a name for it to be saved as\n",
    "\n",
    "the below example takes a video i found on youtube and converts it to a csv"
   ]
  },
  {
   "cell_type": "code",
   "execution_count": null,
   "metadata": {},
   "outputs": [],
   "source": [
    "vid = ['data/dance/video/dance.mp4']\n",
    "video_keypoints_csv(vid, 'dance', 'dance.csv')\n"
   ]
  },
  {
   "cell_type": "code",
   "execution_count": null,
   "metadata": {},
   "outputs": [],
   "source": [
    "df = pd.read_csv('dance.csv')\n",
    "df"
   ]
  },
  {
   "cell_type": "markdown",
   "metadata": {},
   "source": [
    "## replay "
   ]
  },
  {
   "cell_type": "markdown",
   "metadata": {},
   "source": [
    "play_csv takes the csv file produced from video_keypoints_csv() and replays the video of just the skeleton and keypoints against a black frame "
   ]
  },
  {
   "cell_type": "code",
   "execution_count": 4,
   "metadata": {},
   "outputs": [],
   "source": [
    "play_csv('dance.csv')"
   ]
  },
  {
   "cell_type": "markdown",
   "metadata": {},
   "source": [
    "## Convert Key Points in Video To JSON"
   ]
  },
  {
   "cell_type": "markdown",
   "metadata": {},
   "source": [
    "we can basically do the same thing with json files"
   ]
  },
  {
   "cell_type": "code",
   "execution_count": null,
   "metadata": {},
   "outputs": [],
   "source": [
    "vid = ['data/dance/video/dance.mp4']\n",
    "video_keypoints_json(vid, 'dance', 'dance.json')"
   ]
  },
  {
   "cell_type": "markdown",
   "metadata": {},
   "source": [
    "### Replay Json"
   ]
  },
  {
   "cell_type": "code",
   "execution_count": 2,
   "metadata": {},
   "outputs": [],
   "source": [
    "play_json('dance.json')"
   ]
  }
 ],
 "metadata": {
  "kernelspec": {
   "display_name": "Python 3",
   "language": "python",
   "name": "python3"
  },
  "language_info": {
   "codemirror_mode": {
    "name": "ipython",
    "version": 3
   },
   "file_extension": ".py",
   "mimetype": "text/x-python",
   "name": "python",
   "nbconvert_exporter": "python",
   "pygments_lexer": "ipython3",
   "version": "3.9.13"
  }
 },
 "nbformat": 4,
 "nbformat_minor": 2
}
